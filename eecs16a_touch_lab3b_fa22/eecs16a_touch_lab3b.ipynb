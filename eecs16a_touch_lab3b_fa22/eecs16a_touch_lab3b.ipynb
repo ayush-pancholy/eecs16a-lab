{
 "cells": [
  {
   "cell_type": "markdown",
   "metadata": {},
   "source": [
    "# Touchscreen Lab 3b: Capacitive Touchscreen Processing and Actuation\n",
    "\n",
    "### EECS 16A: Designing Information Devices and Systems I, Fall 2022"
   ]
  },
  {
   "cell_type": "markdown",
   "metadata": {},
   "source": [
    "## Table of Contents\n",
    "* [Instructions](#instructions)\n",
    "* [Lab Policies](#policies)\n",
    "* [Introduction](#overview)\n",
    "* [Task 4: Processing Block - Integrator](#task4)\n",
    "    * [Task 4a: Understanding the Integrator Circuit](#task4a)\n",
    "    * [Task 4b: Building the Integrator Circuit](#task4b)\n",
    "    * [Task 4c: Testing the Integrator Circuit](#task4c)\n",
    "* [Task 5: Putting it all Together](#task5)\n",
    "* [Feedback](#feedback)\n",
    "* [Checkoff](#checkoff)"
   ]
  },
  {
   "cell_type": "markdown",
   "metadata": {},
   "source": [
    "<a id='instructions'></a>\n",
    "## Instructions\n",
    "\n",
    "* **Gently disinfect all commonly touched surfaces** at your lab station using the provided cleaning wipes.\n",
    "\n",
    "\n",
    "* Complete this lab by filling in all of the required sections, marked with `\"YOUR CODE HERE\"` or `\"YOUR COMMENTS HERE\"`.\n",
    "\n",
    "\n",
    "* If images do not show up or are blank, please re-open this notebook.\n",
    "\n",
    "\n",
    "* When you finish, submit a checkoff request to get checked off for this lab. Be ready to answer a few questions to show your understanding of each section.\n",
    "\n",
    "\n",
    "* Labs will be graded based on completion for teams of 2 students.\n",
    "\n",
    "<a id='policies'></a>\n",
    "## Lab Policies\n",
    "* **YOU MUST ATTEND THE LAB SECTION YOU ARE ENROLLED IN. If you anticipate missing a section, please notify your GSI in advance.**\n",
    "* **You are required to return all parts checked out at the beginning of the lab section unless told otherwise.**\n",
    "* **You are free to stay for the full allotted time and hack around with the lab equipment, but please reserve the GSI's time for lab-related questions.**\n",
    "* **Food and drinks are not allowed in the lab.** \n",
    "* **Clean up, turn off all equipment, and log off of computers before leaving.**"
   ]
  },
  {
   "cell_type": "markdown",
   "metadata": {},
   "source": [
    "<a id='overview'></a>\n",
    "\n",
    "# <span style=\"color:blue\">(Re)Introduction</span>\n",
    "\n",
    "We have already implemented the processing comparator and actuation LED blocks in the previous lab. Now, we will focus on the processing integrator block, which was previously shown to be a current source and capacitor.\n",
    "\n",
    "In Lab 3A, we used a theoretical periodic square wave current source as the input to detect the change in capacitance. We learned that when integrated, this input gives us a periodic triangle wave whose peak depends on capacitance. We will implement a comparator circuit and then test it with periodic triangle waves of different peaks using a function generator. \n",
    "\n",
    "Periodic square wave current sources are quite complex to make, but we can approximate one using a periodic square wave voltage as you'll see in the lab. Afterward, our previously implemented comparator circuit will digitize the integrated voltage. \n",
    "\n",
    "Finally, an LED will be used as the actuation block to transform the electrical signal (i.e. voltage) into physical quantities (i.e. light).\n",
    "\n",
    "<br>\n",
    "\n",
    "<center><img src=\"https://docs.google.com/drawings/d/e/2PACX-1vSsqf2T2CcBEfQAhJni1RBl4UwqT5FTe3sQ-dMOH-lJi4ueXOT0Qes1gfkUV0CatZi5izWIzDcPwkUk/pub?w=1485&h=784\" style=\"height:300px\"/></center>\n",
    "\n",
    "<br>"
   ]
  },
  {
   "cell_type": "markdown",
   "metadata": {},
   "source": [
    "**In this lab, we will work further on the processing block.** <!--- The processing comparator and actuation LED should look familiar from Touch 3A. ---> The entire circuit is shown in the image below. Do NOT start implementing the circuit yet - we will help motivate the design and walk you through some of the process.\n",
    "\n",
    "<br>\n",
    "\n",
    "<img src=\"img/full_circuit.png\" style=\"height:500px\"/>\n",
    "\n",
    "<br>\n",
    "\n",
    "We have already implemented the processing comparator and actuation LED blocks in the previous lab. Now, we will focus on the processing integrator block, which was previously shown to be a current source and capacitor.\n",
    "\n",
    "**Note: Circuit elements that have a diagonal arrow going through them, like $C_{pixel}$ shown above, mean that the component's value is variable. In this case, the symbol for $C_{pixel}$ is variable because it has one capacitance value when it is not being touched and another capacitance value when it is.**"
   ]
  },
  {
   "cell_type": "markdown",
   "metadata": {},
   "source": [
    "Remember that $C_{Pixel}$ (also notated as $C_{eq, E1-E2}$) is the capacitance of the entire touchscreen, with or without the finger, making a variable capacitor. In the processing block (integrator and comparator), the electrical signal is conditioned and processed. **You implemented and tested the comparator circuit last week in Task 3. You will understand and build the integrator circuit in Task 4. Task 5 will focus on connecting your circuit from Task 3 together with your integrator circuit.**"
   ]
  },
  {
   "cell_type": "markdown",
   "metadata": {},
   "source": [
    "<a id='task4'></a>\n",
    "# <span style=\"color:blue\">Task 4: Processing Block - Integrator</span>\n",
    "\n",
    "Let us revisit the limitations of the system we simulated in Touchscreen 3A. The circuit was as follows: \n",
    "\n",
    "<img src=\"img/current.jpg\" align=\"center\" style=\"height:200px\">\n",
    "\n",
    "A perfect periodic current source is incredibly difficult to make, but we can approximate one using a periodic voltage source, resistor, and an op-amp. As it turns out, this method is identical to integrating the voltage source instead of a current source.\n",
    "\n",
    "In this section, we'll first focus on the theory of an integrator circuit, then physically wire together the system, utilizing the capacitive touch sensor (sensing the difference in capacitance) and an integrator circuit (**turning the change in capacitance into a change in voltage**).\n",
    "\n",
    "<a id='task4a'></a>\n",
    "\n",
    "## <span style=\"color:blue\">Task 4a: Understanding the Integrator Circuit</span>\n",
    "\n",
    "We were able to sense the difference in capacitance with and without fingers using the touchpad in Touchscreen Lab 3A. We used a periodic current source as the input to detect the change in capacitance. In this task, we will approximate a periodic current source with a periodic voltage source, an op-amp, and a resistor. This topology is equivalent to the integrator circuit seen below:\n",
    "\n",
    "<br>\n",
    "\n",
    "<img src=\"img/integrator-graphic.gif\" align=\"center\" style=\"height:250px\">\n",
    "<center><font size=1>https://www.electronics-tutorials.ws/opamp/opamp_6.html</font></center>\n",
    "\n",
    "<br>\n",
    "\n",
    "You may be wondering why this configuration helps us build a square wave current source. Consider the golden rules of an ideal op-amp: $V^+ = V^-$, which makes both $V^+=0V$ and $V^- = 0V$.\n",
    "\n",
    "Then we will operate KCL on the $V^-$ node:\n",
    "\n",
    "<h3 align=\"center\"> $I_{in}(t) = \\frac{V_{in}(t)-0}{R_{in}} = \\frac{V_{in}(t)}{R_{in}}$ </h3>\n",
    "<h3 align=\"center\"> $I_{f}(t) = I_{in}(t) = \\frac{V_{in}(t)}{R_{in}}$ </h3>\n",
    "\n",
    "We've built a system that gives us control of the current passing through the capacitor. **If $V_{in}$ is a square wave voltage source, then $I_f$ will be a square wave current source!** However, note that due to many nonidealities outside the scope of this class, our current source is far from perfect.\n",
    "\n",
    "We may alternatively view this circuit as a **voltage integrator**. As its name implies, the op-amp voltage integrator is an operational amplifier circuit that performs the mathematical operation of integration. That is, we can cause the output to respond to changes in the input voltage over time as the op-amp integrator produces an output voltage which is proportional to **the integral of the input voltage**.\n",
    "\n",
    "According to the definition of capacitance,\n",
    "\n",
    "<h3 align=\"center\"> $I_{f}(t) = C_{pixel}\\frac{\\mathrm{d}V_{c}(t)}{\\mathrm{d}t}$ </h3>\n",
    "\n",
    "In order to get the voltage of the capacitor at any time $t$ (i.e. $V_c(t)$), integrate over a time interval $[t_0,t]$,\n",
    "\n",
    "<h3 align=\"center\"> $V_c(t) = V_c(t_0) + \\int\\limits_{t_0}^t \\frac{I_f}{C_{pixel}} \\mathrm{d}t = V_c(t_0) + \\int\\limits_{t_0}^t \\frac{V_{in}(t)}{R_{in}C_{pixel}} \\mathrm{d}t$ </h3>\n",
    "\n",
    "where $V_c(t_0)$ is the voltage of the capacitor at time $t_0$. Thus, the output voltage of the integrator at any time $t$ can be dervied as,\n",
    "\n",
    "<h3 align=\"center\"> $V_{out1}(t) = 0 - V_c(t) = -V_c(t_0) - \\int\\limits_{t_0}^t \\frac{V_{in}(t)}{R_{in}C_{pixel}} \\mathrm{d}t$ </h3>\n",
    "\n",
    "If the initial condition $V_c(t_0)=0V$, the expression we get is:\n",
    "\n",
    "<h3 align=\"center\"> $V_{out1}(t) = - \\frac{1}{R_{in}C_{pixel}} \\int\\limits_{t_0}^t V_{in}(t)\\mathrm{d}t $ </h3>\n",
    "\n",
    "We will choose a square wave from the function generator as the input voltage ($V_{in}$) as shown below:\n",
    "\n",
    "<br>\n",
    "\n",
    "<center><img src=\"img/square_wave.png\" style=\"height:300px\"/></center>\n",
    "\n",
    "<br>\n",
    "\n",
    "The offset of the integrator output should be zero, so the boundary condition is \n",
    "\n",
    "<h3 align=\"center\"> $t_0 = T/4$ </h3>\n",
    "<h3 align=\"center\"> $V_c(t_0) = 0$ </h3>\n",
    "\n",
    "In following tasks, we will use a $10k\\Omega$ resistor as $R$ and set up the time period as $40 \\mu s$.\n",
    "\n",
    "<h3 align=\"center\"> $R = 10k\\Omega$ </h3>\n",
    "<h3 align=\"center\"> $T = 40\\mu s$ </h3>"
   ]
  },
  {
   "cell_type": "markdown",
   "metadata": {},
   "source": [
    "\n",
    "**You will need to use the Resistance, Capacitor, and Initial Voltage for the following calculation.**\n",
    "\n",
    "**Note:** Recall that we measured capacitances of the touchpad with and without touch in Touchscreen Lab 3A. When we plug the touchpad on the breadboard with the op-amp, other parasitic capacitances will add up. Here is an estimation of the equivalent capacitances with and without touch. You will use the following values for the tasks below.\n",
    "\n",
    "|      State     | $C_{pixel}$ |         \n",
    "| ---------------|-------------|\n",
    "| **No Touch**   | $50pF$      |\n",
    "| **With Touch** | $150pF$     |\n",
    "\n",
    "**<center>Note: $pF=10^{-12}F$</center>**\n",
    "\n",
    "<br>\n",
    "\n",
    "**<span style=\"color:red\"> Touch Sensor Capacitance ($C_{pixel}$) values have been copied into the code below for your convenience. Given the Touch Sensor Capacitance($C_{pixel}$) values with and without touch, the boundary conditions in the derivation above, and the `integrate` function from last week (shown below),   \n",
    "find the output voltage ($V_{out1}$) for both no touch (`V_out1_notouch`) and touch (`V_out1_touch`).</span>**\n",
    "\n",
    "```\n",
    "def integrate(function, dt, c):\n",
    "    \"\"\"\n",
    "    Returns the trapezoidal approximation for the integral of function\n",
    "    \n",
    "    function - function to be integrated\n",
    "    dt       - time delta\n",
    "    c        - integration constant\n",
    "    \"\"\"\n",
    "```"
   ]
  },
  {
   "cell_type": "code",
   "execution_count": null,
   "metadata": {
    "jupyter": {
     "outputs_hidden": true
    }
   },
   "outputs": [],
   "source": [
    "%run helper.py\n",
    "%matplotlib notebook \n",
    "rcParams['figure.figsize'] = 8,5\n",
    "\n",
    "R_in = 1e4\n",
    "C    = 50e-12\n",
    "C_t  = 150e-12\n",
    "dt   = .4e-6\n",
    "v_in = gen_vin() # One period of the square wave\n",
    "\n",
    "V_out1_notouch = # YOUR CODE HERE\n",
    "V_out1_touch   = #YOUR CODE HERE\n",
    "\n",
    "test_v_out1(V_out1_notouch, V_out1_touch)"
   ]
  },
  {
   "cell_type": "markdown",
   "metadata": {},
   "source": [
    "Run the code below to generate the plot for the voltage across $C_{pixel}$"
   ]
  },
  {
   "cell_type": "code",
   "execution_count": null,
   "metadata": {
    "jupyter": {
     "outputs_hidden": true
    }
   },
   "outputs": [],
   "source": [
    "_ = plot_Vin_Vout(V_out1_notouch, V_out1_touch, v_in, dt)"
   ]
  },
  {
   "cell_type": "markdown",
   "metadata": {},
   "source": [
    " After plotting, determine the values at time $t=T/4$, $t=T/2$, $t=3T/4$, $t=T$ and $t=5T/4$ from the plot, and record the values in the table below."
   ]
  },
  {
   "cell_type": "markdown",
   "metadata": {},
   "source": [
    "|  $V_{out1}$   |      $t=T/4$     |      $t=T/2$     |     $t=3T/4$     |       $t=T$      |     $t=5T/4$     |     \n",
    "| :-----------: | :--------------: | :--------------: | :--------------: | :--------------: | :--------------: |\n",
    "| **No Touch**  |`YOUR ANSWER HERE`|`YOUR ANSWER HERE`|`YOUR ANSWER HERE`|`YOUR ANSWER HERE`|`YOUR ANSWER HERE`|\n",
    "| **With Touch**|`YOUR ANSWER HERE`|`YOUR ANSWER HERE`|`YOUR ANSWER HERE`|`YOUR ANSWER HERE`|`YOUR ANSWER HERE`|"
   ]
  },
  {
   "cell_type": "markdown",
   "metadata": {},
   "source": [
    "**In practice, however, we will need the following circuit to make the integrator work. Note that we add one $51\\Omega$ resistor in parallel with the periodic voltage source and one $1M\\Omega$ resistor in parallel with the capacitor.**\n",
    "\n",
    "<br>\n",
    "\n",
    "<center><img src=\"img/integrator_circuit.png\" style=\"height:500px\"/></center>\n",
    "\n",
    "<br>\n",
    "\n",
    "Why do we have the $51\\Omega$ resistor? To understand this, try analyzing the circuit without it. The function generator actually outputs a voltage peak to peak **2 times** higher than you set it (ex. if you set $5V_{ptp}$ the function generator will actually output $10V_{ptp}$). You can read more [here](https://www.keysight.com/main/editorial.jspx%3Fckey%3D1948055%26id%3D1948055%26nid%3D-11143.0.00%26lc%3Djpn%26cc%3DJP). According to the golden rules, the positive terminal of the op-amp is a virtual ground. Without the  $51\\Omega$ resistor, the loading of the function generator is  $10k\\Omega$, which is large enough to actually affect the output of the function generator. With the  $51\\Omega$  resistor in the circuit, the loading (effective resistance seen by the function generator) is approximately  $50\\Omega$, and the output won't be affected much by the loading effect.\n",
    "\n",
    "What about the $1M\\Omega$ resistor in the feedback loop? Imagine the circuit without the $1M\\Omega$ resistor in equilibrium - the capacitor is fully charged, so it acts as an open circuit, so there is no longer any negative feedback, so the OpAmp is in open loop operation, making it rail to $5V$ or $-5V$ depending on its inputs. The $1M\\Omega$ resistor creates a path for negative feedback (the same topology as the inverting amplifier) to maintain the negative feedback needed for the circuit to operate."
   ]
  },
  {
   "cell_type": "markdown",
   "metadata": {},
   "source": [
    "<a id='task4b'></a>\n",
    "\n",
    "## <span style=\"color:blue\">Task 4b: Building the Integrator Circuit</span>\n",
    "Now that you know how the integrator circuit works, we will learn how to generate a square wave from the function generator and build the circuit on breadboard with the touchpad from Touchscreen Lab 3a as $C_{pixel}$.\n",
    "\n",
    "### <span style=\"color:blue\">Materials</span>\n",
    "* Breadboard & Circuit - Task 3\n",
    "* Capacitive Touchpad - Touchscreen Lab 3A\n",
    "* Resistors ($10k\\Omega$ and $1M\\Omega$) - GSI Desk\n",
    "* Breadboarding Wires - GSI Desk\n",
    "* Function Generator Probe - Back Wall\n",
    "* Power Supply Wires (for +6V, +25V, and -25V terminals) 3 Red wires and 2 Black wires - Back Wall\n",
    "* 2 Oscilloscope Probes - Back wall\n",
    "\n",
    "### <span style=\"color:blue\">Dual Op-AMP IC</span>\n",
    "To implement our integrator, we will use the same dual op-amp chip from last lab. As a reminder, this means that a single chip contains two separate op-amps. This is important because the integrator circuit will use one of the op-amps, and the comparator circuit will use the other op-amp in the next task. For reference, we are using the LMC6482 IC chip, which should already be in your breadboard.\n",
    "\n",
    "Pictured below is a graphic of the chip we are using as well as its pinout. Reminder, the notch should be at the top, and the pins are numbered sequentially as you go counter-clockwise around the chip. As you can see, there are two separate op-amps in the chip, each with their own input and output terminals. However, both op-amps share the same positive and negative supply rail voltages, labeled $V^+$ and $V^-$ in the diagram below.<br>\n",
    "<br>\n",
    "\n",
    "**<center>Reminder - You should be using the breadboard from Task 3A that has the Op-Amp already placed in it, as well a the LED and two resistors.</center>**\n",
    "\n",
    "<br>\n",
    "\n",
    "<center><img src=\"img/opamp-with-chip.png\" align=\"center\" style=\"height:275px\"></center>\n",
    "\n",
    "<center><span style=\"font-size:9pt;align:center\">Additional details: http://www.ti.com/lit/ds/symlink/lmc6482.pdf</span></center>\n",
    "\n",
    "<br>\n",
    "\n",
    "**It is worth noting that the notation used for labeling the op-amps is a bit different than class, so please be careful when referring to the terminal labels. We have tried to avoid ambiguity by labeling $+/-$ terminals with only a $+$ or $-$ sign, and labeling supply voltages using words, as shown below:**\n",
    "<br>\n",
    "<br/>\n",
    "<center><font color=\"blue\"><b>Op-Amp IC Pin Assignments</b></font></center>\n",
    "\n",
    "| **Op-Amp Label** |        + pin        |        - pin        |       OUT pin       |\n",
    "|:----------------:|:-------------------:|:-------------------:|:-------------------:|\n",
    "|        $A$       | $\\color{blue}{(3)}$ | $\\color{blue}{(2)}$ | $\\color{blue}{(1)}$ |\n",
    "|        $B$       | $\\color{blue}{(5)}$ | $\\color{blue}{(6)}$ | $\\color{blue}{(7)}$ |\n",
    "\n",
    "$$\\textrm{Positive Supply Voltage: }\\color{blue}{(8)}$$\n",
    "$$\\textrm{Negative Supply Voltage: }\\color{blue}{(4)}$$\n",
    "\n",
    "**<span style=\"color:red\">Note: You should have already used one of the Op-Amps in the dual Op-Amp chip in Task 3A - make sure to use the other Op-Amp that has not been used yet for the integrator, it is impossible to implement the entire circuit using only one of the Op-Amps in the dual Op-Amp chip.</span>**"
   ]
  },
  {
   "cell_type": "markdown",
   "metadata": {},
   "source": [
    "### <span style=\"color:blue\">Function Generator</span>\n",
    "To implement the square wave as the input voltage, we will use a function generator. We'll go through slightly different steps than the last task, so read carefully:\n",
    "\n",
    "<br>\n",
    "\n",
    "<center><img src=\"img/33220a.jpg\" style=\"height:250px\"></center>\n",
    "\n",
    "<br>\n",
    "\n",
    "To generate a specific square wave for our circuit, please follow these directions:\n",
    "\n",
    "**1. Turn on the tool by pressing the power button, located at the bottom left corner of the tool.**\n",
    "\n",
    "**2. If the screen says \"Remote\" on the right side of the screen, press the \"Graph/Local\" button above the on/off button. The remote symbol on the right side of the screen should now be replaced with a sine wave. Once you have the sine wave on the right side of the screen, you're good to go. (FYI, this step allows us to control the tool with the buttons on the front, rather than a remote control like the computer.)**\n",
    "\n",
    "**3. Push \"Square\" button to output a square wave. The remote symbol on the right side of the screen should now shows a square wave.**\n",
    "\n",
    "**4. Push \"Freq/Period\" button (the first blue button below the screen) to adjust the period of the square wave. Now, \"Period\" should be highlighted. (If not, push the button again.) Adjust the period to $40 \\mu s$ by the number pad, knob and arrow keys.**\n",
    "\n",
    "**5. Push \"Ampl/HiLevel\" button (\"Ampl\" should be highlighted\") to check the amplitude of the wave. Make sure the amplitude is $100 mV$, which is the peak to peak value as shown on the right side of the screen.**\n",
    "\n",
    "**6. Push \"Offset/LoLevel\" button (\"Offset\" should be highlighted) to check the offset fo the wave. Make sure the offset is $0$.**\n",
    "\n",
    "**7. Now, you have finished the setup and the function generator is generating a square wave with $40 \\mu s$ period, $100 mV$ peak to peak amplitude and $0$ offset. Hook up the probe to the output line of the function generator and hit `output`.**\n"
   ]
  },
  {
   "cell_type": "markdown",
   "metadata": {},
   "source": [
    "\n",
    "### <span style=\"color:blue\">Breadboard</span>\n",
    "\n",
    "Make sure you fully understand the integrator circuit in [Task 4a](#task4a). Now we are going to translate the practical integator circuit to the breadboard. \n",
    "\n",
    "<br>\n",
    "\n",
    "<center><img src=\"img/full_circuit.png\" style=\"height:500px\"/></center>\n",
    "\n",
    "\n",
    "<center><img src=\"img/opamp-with-chip.png\" align=\"center\" style=\"height:200px\"></center>"
   ]
  },
  {
   "cell_type": "markdown",
   "metadata": {},
   "source": [
    "**<span style=\"color:DarkRed\"> Before starting to breadboard, we recommend you to remove all the wires you had connected  in Task 3 (leaving your 2 resistors, LED, and OpAmp chip in). That said, you may find that moving the $51 \\Omega$ resistor to a different location will help (see the partial breadboard below). For this lab, you should be using breadboard wires for breadboard to breadboard connections, and cutting your wires short so that your breadboard is flush to the surface. Consider cutting your resistor legs short so that they are also flush with the breadboard. Debugging will be a nightmare if you leave everything looping above the breadboard - do this now before reading further.</span>**\n",
    "\n",
    "\n",
    "**<span style=\"color:red\">Part of the circuit has been translated for you as a starting point as shown in the image below. You should have the Op-Amp already plugged in along with a resistor and LED from the last section. You should have already used one of the Op-Amps in the dual Op-Amp chip in Task 3 - make sure to use the other Op-Amp that has not been used yet for the integrator, it is impossible to implement the entire circuit using only one of the Op-Amps (You do not need two chips on the board as one chip has two OpAmps in it, hence the Dual OpAmp IC). Please continue building the entire integrator circuit.</span>**\n",
    "\n",
    "<span style=\"color:red\"><font size=\"+1\">**The breadboard is NOT the complete circuit.**</font></span>\n",
    "\n",
    "<br>\n",
    "\n",
    "<center><img src=\"img/3b_bb.png\" style=\"height:600px\"></center>\n",
    "\n",
    "**You should have the following things plugged into your circuit at the end:**\n",
    "\n",
    "1. Op Amp Chip\n",
    "2. $51 \\Omega$ Resistor (Green-Brown-Black-Gold)\n",
    "3. $10k \\Omega$ Resistor (Brown-Black-Orange-Gold)\n",
    "4. $1M \\Omega$ Resistor (Brown-Black-Green-Gold)\n",
    "5. Capacitive Touchscreen $C_{Pixel}$\n",
    "6. 2 red power supply cables (+25V and -25V)\n",
    "7. 2 black power supply cables (-6V and COM)\n",
    "8. Function Generator probe (Red is $V_{in}$ and Black is GND)\n",
    "9. Rest of the Task 3 circuit\n",
    "\n",
    "\n",
    "**<span style=\"color:red\">Make sure you have properly limited the current on all channels (+6V, +25V, -25V) to 0.1A.</span>**"
   ]
  },
  {
   "cell_type": "markdown",
   "metadata": {},
   "source": [
    "<a id='task4c'></a>\n",
    "\n",
    "## <span style=\"color:blue\">Task 4c: Testing the Integrator Circuit</span>\n",
    "Now that you know how the integrator circuit works in [Task 4a](#task4a) and translated it to the breadboard in [Task 4b](#task4b), you will test the circuit and make sure it works properly in this task.\n",
    "\n",
    "**<span style=\"color:red\">Use the oscilloscope and two oscilloscope wires you obtained earlier to measure the input voltage ($V_{in}$) and the output voltage of the integrator    ($V_{out1}$) at the same time. Make sure you are grounding the black probe of the Oscilloscope. You should see a square wave ($V_{in}$) and a triangular wave ($V_{out1}$). Hit `Autoscale` to get both of your signals to show up.</span>**"
   ]
  },
  {
   "cell_type": "markdown",
   "metadata": {},
   "source": [
    "**<span style=\"color:red\">Please measure the following parameters of these two voltage waveforms by the measurement function on the oscilloscope. Compare your measurement with the calculation in [Task 4a](#task4a) to see how close we were able to get.</span>**\n",
    "\n",
    "To measure the maximum value of a waveform on the oscilloscope, please follow these directions:\n",
    "\n",
    "**1. Probe the oscilloscope wire at the output of the integrator to measure $V_{out1}$.**\n",
    "\n",
    "**2. Do not touch the touchpad.**\n",
    "\n",
    "**3. Push `Autoscale` button (top right) to autoscale the signal on the screen.** Note: Autoscale may not always work but is often a good place to start. Feel free to adjust the window manually by following the instructions in the [Equipment Guide](https://docs.google.com/document/d/e/2PACX-1vTVrGBDbRfVI0_LjSeTfw8doili8iS_E_9Fwdk2UShgf7WAgVVoHtyMOpjXadXwD45HNXUbb2ASF18H/pub#h.vhtt0js2ry3a).\n",
    "\n",
    "**4. Push `Single` button (top right) to capture a single signal without touch for measurement. You may need to push the button multiple times until you find a good signal.**\n",
    "\n",
    "**5. Push `Meas` button (middle) to call out the measurement function.**\n",
    "\n",
    "**6. Push `Source` button (first button below the screen) and select the channel that your oscilloscope wire is measuring $V_{out1}$. (If you are using channel 1, you should select source 1.)**\n",
    "\n",
    "**7. Push `Type` button (second button below the screen) and select `Maximum` to measure the maximum value of the signal.**\n",
    "\n",
    "**8. Push `Add Measurement` button (third button below the screen) to add the measurment onto the screen. The maximum value will be shown on the screen (bottom right). Record the value in the following table.**\n",
    "\n",
    "**9. Touch the touchpad and place your hand on the touchpad until you finish this step. Push `Autoscale` and then `Single` button to capture a single signal with touch for measurement. You may need to push the `Single` button multiple times until you find a good signal.** Feel free to try manual scaling ([instructions](https://docs.google.com/document/d/e/2PACX-1vTVrGBDbRfVI0_LjSeTfw8doili8iS_E_9Fwdk2UShgf7WAgVVoHtyMOpjXadXwD45HNXUbb2ASF18H/pub#h.vhtt0js2ry3a)) if autoscale does not give satisfying results.\n",
    "\n",
    "**10. Your fingers may leave the touchpad. Record the maximum value in the following table.**"
   ]
  },
  {
   "cell_type": "markdown",
   "metadata": {},
   "source": [
    "|  | Measured $V_{out1,max}$ |\n",
    "| ---: | :------: |\n",
    "|**No Touch**| `YOUR ANSWER HERE` |\n",
    "| **With Touch** |  `YOUR ANSWER HERE` |"
   ]
  },
  {
   "cell_type": "markdown",
   "metadata": {},
   "source": [
    "<a id='task5'></a>\n",
    "# <span style=\"color:blue\">Task 5: Putting it all together</span>\n",
    "\n",
    "Now that we have our full circuit, let's put it to the test. You should have verified that the processing integrator block works in the previous section, and we have shown in [Task 3a](#task3a) that the processing comparator and actuation LED works. \n",
    "<br>\n",
    "To bring it all together, we must set $V_{ref}$ to the correct value. \n",
    "\n",
    "\n",
    "**<span style=\"color:red\">Looking at your `No Touch` and `With Touch` values in the table above, how would you go about selecting $V_{ref}$? </span>**\n"
   ]
  },
  {
   "cell_type": "markdown",
   "metadata": {},
   "source": [
    "**`YOUR ANSWER HERE`**"
   ]
  },
  {
   "cell_type": "markdown",
   "metadata": {},
   "source": [
    "<img src=\"img/full_circuit.png\" align=\"center\" style=\"height:500px\">\n",
    "\n",
    "<br>\n",
    "\n",
    "Let's try and connect your entire circuit together. If you followed our advice in the breadboarding section of Task 4, you should have removed all the wires from Task 3. This means we need to add two things - $V_{ref}$ and the connection between the integrator and the comparator (and possibly more if you used wires to connect the 330 Ohm resistor and LED). **<span style=\"color:red\">Add connections to your circuit to complete it - to double check if you finished your circuit, try to trace every node on the circuit diagram, then trace the  nodes on your circuit; you should be able to relate each node to either a phyiscal wire or a connection inside the breadboard (reminder: horizontal rows are connected)</span>**\n",
    "\n",
    "Set your $V_{ref}$ of choice on the $6V$ line, and turn on the outputs!\n",
    "\n",
    "**Note: The LED is very directional - you may need to view it from directly above to see it flash**\n",
    "\n",
    "**Note 2: Even though when there is no touch, the output is periodic, if it is fast enough, your eye cannot register it flashing, so it looks like it is continuously on.**\n",
    "\n",
    "**Note 3: Check all your wires are plugged in all the way, and that they're going into the correct pins on the opamps.**\n",
    "\n",
    "**Note 4: Feel free to play around with $V_{ref}$ and see if that affects your circuit.**\n",
    "\n",
    "**<span style=\"color:red\">What happens when you touch the touchpad?</span>**"
   ]
  },
  {
   "cell_type": "markdown",
   "metadata": {},
   "source": [
    "`YOUR ANSWER HERE`"
   ]
  },
  {
   "cell_type": "markdown",
   "metadata": {},
   "source": [
    "<a id='feedback'></a>\n",
    "## Feedback\n",
    "\n",
    "Please help us improve our labs by submitting **anonymous** feedback at [tinyurl.com/16a-lab-feedback](https://docs.google.com/forms/d/e/1FAIpQLScvqdGYzfsHlMQhSoquETT8FRLR-lA_hp8y8wwbumn9orXuFg/viewform?usp=sf_link). This is fully optional, but your submissions let us know what's going well and what could be improved!"
   ]
  },
  {
   "cell_type": "markdown",
   "metadata": {},
   "source": [
    "<a id='checkoff'></a>\n",
    "## Checkoff\n",
    "When you are ready to get checked off, fill out the checkoff google form. **[Checkoff Form](https://docs.google.com/forms/d/e/1FAIpQLSc6AEapc5xrVjHGzRgEdsHLcZBKVZ9aFR_TYMx00UNBFJ916g/viewform?usp=sf_link)**\n",
    "\n",
    "Your GSI or a Lab Assistant will join you when they are available and go through some checkoff questions with your group. They will go through the checkoff list in order. Please be patient!\n",
    "\n",
    "## <span style='color:red;font-weight:bold'>Do not take apart your setup!</span>\n",
    "\n",
    "When you are checked off, please clean up your station - return all equipment and throw away wire trimmings."
   ]
  }
 ],
 "metadata": {
  "anaconda-cloud": {},
  "kernelspec": {
   "display_name": "Python 3 (ipykernel)",
   "language": "python",
   "name": "python3"
  },
  "language_info": {
   "codemirror_mode": {
    "name": "ipython",
    "version": 3
   },
   "file_extension": ".py",
   "mimetype": "text/x-python",
   "name": "python",
   "nbconvert_exporter": "python",
   "pygments_lexer": "ipython3",
   "version": "3.8.2"
  }
 },
 "nbformat": 4,
 "nbformat_minor": 4
}
